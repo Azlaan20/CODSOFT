{
 "cells": [
  {
   "cell_type": "markdown",
   "metadata": {},
   "source": [
    "> ## **Movie Recommendation System Project** ##"
   ]
  },
  {
   "cell_type": "markdown",
   "metadata": {},
   "source": [
    "First, we will import the necessary libraries and the dataset and create a Lemmatizer object."
   ]
  },
  {
   "cell_type": "code",
   "execution_count": 91,
   "metadata": {},
   "outputs": [],
   "source": [
    "import pandas as pd\n",
    "import re\n",
    "from nltk.stem import WordNetLemmatizer\n",
    "from contractions import fix\n",
    "from sklearn.feature_extraction.text import TfidfVectorizer\n",
    "from sklearn.metrics.pairwise import cosine_similarity"
   ]
  },
  {
   "cell_type": "code",
   "execution_count": 92,
   "metadata": {},
   "outputs": [],
   "source": [
    "lemmatizer = WordNetLemmatizer()"
   ]
  },
  {
   "cell_type": "code",
   "execution_count": 93,
   "metadata": {},
   "outputs": [],
   "source": [
    "# Read CSV files\n",
    "df1 = pd.read_csv('movie_data_train.csv')\n",
    "df2 = pd.read_csv('movie_data_solution.csv')"
   ]
  },
  {
   "cell_type": "markdown",
   "metadata": {},
   "source": [
    "We have two datasets, which both have data of movie names, genres and plot summaries. We need a large dataset so we will merge the two datasets together. This would help us get a large dataset with a lot of movie names and plot summaries. We will use the movie names and plot summaries to create a recommendation system. The model would work more efficiently if we have a large dataset."
   ]
  },
  {
   "cell_type": "code",
   "execution_count": 94,
   "metadata": {},
   "outputs": [],
   "source": [
    "# Concatenate DataFrames\n",
    "df = pd.concat([df1, df2], axis=0)"
   ]
  },
  {
   "cell_type": "markdown",
   "metadata": {},
   "source": [
    "Now, we would refine and preprocess the data. We will remove any special words, symbols, numbers, etc. from the plot summaries. We will also remove any stopwords from the plot summaries. We will also lemmatize the words in the plot summaries. "
   ]
  },
  {
   "cell_type": "code",
   "execution_count": 95,
   "metadata": {},
   "outputs": [],
   "source": [
    "def preprocess(text):\n",
    "    text = text.lower()\n",
    "    text = re.sub(r'[^a-z\\s]', '', text)  # remove non-alpha\n",
    "    text = fix(text)  # expand contractions using the 'fix' function from contractions\n",
    "    text = lemmatizer.lemmatize(text)  # lemmatize\n",
    "    return text"
   ]
  },
  {
   "cell_type": "code",
   "execution_count": 96,
   "metadata": {},
   "outputs": [],
   "source": [
    "# Preprocess plots: lower case, remove punctuation, lemmatize\n",
    "df['Plot'] = df['Plot Summary'].apply(preprocess)"
   ]
  },
  {
   "cell_type": "markdown",
   "metadata": {},
   "source": [
    "After the data has been preprocessed, it is now time for the main part of the project. We will create a TF-IDF vectorizer object and fit it on the plot summaries. We will then create a cosine similarity matrix. We will use the cosine similarity matrix to find the cosine similarity between the plot summaries. We will then create a function that takes in a movie name and returns the most similar movie to it. We will then test the function by passing in a movie name and printing the top 10 most similar movies to it."
   ]
  },
  {
   "cell_type": "code",
   "execution_count": 97,
   "metadata": {},
   "outputs": [],
   "source": [
    "# Create a TF-IDF vectorizer\n",
    "tfidf_vectorizer = TfidfVectorizer(max_features=10_000)\n",
    "tfidf_matrix = tfidf_vectorizer.fit_transform(df['Plot'])"
   ]
  },
  {
   "cell_type": "code",
   "execution_count": 98,
   "metadata": {},
   "outputs": [],
   "source": [
    "def recommend_and_print(plot):\n",
    "    processed_plot = preprocess(plot)\n",
    "    plot_vec = tfidf_vectorizer.transform([processed_plot])\n",
    "    \n",
    "    # Calculate cosine similarities\n",
    "    similarities = cosine_similarity(tfidf_matrix, plot_vec)\n",
    "    \n",
    "    # Get top indices\n",
    "    indices = similarities.argsort(axis=0)[-10:][::-1]\n",
    "    \n",
    "    # Get movie titles using the indices\n",
    "    recommended_movies = []\n",
    "    for idx in indices:\n",
    "        original_idx = df.index[idx]  # Get the original index\n",
    "        movie_title = df.loc[original_idx, 'Title']\n",
    "        recommended_movies.append(movie_title)\n",
    "    \n",
    "    # Print recommended movies\n",
    "    for idx, movie_title in enumerate(recommended_movies, start=1):\n",
    "        print(f\"{idx}. {movie_title}\")\n",
    "    \n",
    "    return recommended_movies\n"
   ]
  },
  {
   "cell_type": "code",
   "execution_count": 99,
   "metadata": {},
   "outputs": [],
   "source": [
    "# Example plot \n",
    "plot = input(\"Enter a plot of a type of movie you would like to see: \")"
   ]
  },
  {
   "cell_type": "code",
   "execution_count": 100,
   "metadata": {},
   "outputs": [
    {
     "name": "stdout",
     "output_type": "stream",
     "text": [
      "1. 48604    Discovering the Real World of Harry Potter (2001)\n",
      "48604                              Friendly Enemies (1942)\n",
      "Name: Title, dtype: object\n",
      "2. 16724      I'm Not Obsessed (2008)\n",
      "16724    \"Common Sense: AU\" (2017)\n",
      "Name: Title, dtype: object\n",
      "3. 5547             Les galeries Lévy et Cie (1932)\n",
      "5547    The Seekers Guide to Harry Potter (2010)\n",
      "Name: Title, dtype: object\n",
      "4. 8328    \"Hogwarts: The Truth About Potter\" (2014)\n",
      "8328       Ladies' Night in a Turkish Bath (1928)\n",
      "Name: Title, dtype: object\n",
      "5. 7886                            Sun Valley Cyclone (1946)\n",
      "7886    An Exclusive Inside Look at 'Harry Potter and ...\n",
      "Name: Title, dtype: object\n",
      "6. 4885     The Sound of Life (2008)\n",
      "4885    Choihui jeongmumun (1977)\n",
      "Name: Title, dtype: object\n",
      "7. 16360      I bambini della miniera (2016)\n",
      "16360    JK Rowling: The Interview (2003)\n",
      "Name: Title, dtype: object\n",
      "8. 47163                          Virtual Encounters 2 (1998)\n",
      "47163    The Wizard Rockumentary: A Movie About Rocking...\n",
      "Name: Title, dtype: object\n",
      "9. 40489    Forgotten Faces (1936)\n",
      "40489          Babylon (????/I)\n",
      "Name: Title, dtype: object\n",
      "10. 40226           Expose (2005)\n",
      "40226    Hello-Goodbye (1970)\n",
      "Name: Title, dtype: object\n"
     ]
    },
    {
     "data": {
      "text/plain": [
       "[48604    Discovering the Real World of Harry Potter (2001)\n",
       " 48604                              Friendly Enemies (1942)\n",
       " Name: Title, dtype: object,\n",
       " 16724      I'm Not Obsessed (2008)\n",
       " 16724    \"Common Sense: AU\" (2017)\n",
       " Name: Title, dtype: object,\n",
       " 5547             Les galeries Lévy et Cie (1932)\n",
       " 5547    The Seekers Guide to Harry Potter (2010)\n",
       " Name: Title, dtype: object,\n",
       " 8328    \"Hogwarts: The Truth About Potter\" (2014)\n",
       " 8328       Ladies' Night in a Turkish Bath (1928)\n",
       " Name: Title, dtype: object,\n",
       " 7886                            Sun Valley Cyclone (1946)\n",
       " 7886    An Exclusive Inside Look at 'Harry Potter and ...\n",
       " Name: Title, dtype: object,\n",
       " 4885     The Sound of Life (2008)\n",
       " 4885    Choihui jeongmumun (1977)\n",
       " Name: Title, dtype: object,\n",
       " 16360      I bambini della miniera (2016)\n",
       " 16360    JK Rowling: The Interview (2003)\n",
       " Name: Title, dtype: object,\n",
       " 47163                          Virtual Encounters 2 (1998)\n",
       " 47163    The Wizard Rockumentary: A Movie About Rocking...\n",
       " Name: Title, dtype: object,\n",
       " 40489    Forgotten Faces (1936)\n",
       " 40489          Babylon (????/I)\n",
       " Name: Title, dtype: object,\n",
       " 40226           Expose (2005)\n",
       " 40226    Hello-Goodbye (1970)\n",
       " Name: Title, dtype: object]"
      ]
     },
     "execution_count": 100,
     "metadata": {},
     "output_type": "execute_result"
    }
   ],
   "source": [
    "recommend_and_print(plot)"
   ]
  }
 ],
 "metadata": {
  "kernelspec": {
   "display_name": "Python 3",
   "language": "python",
   "name": "python3"
  },
  "language_info": {
   "codemirror_mode": {
    "name": "ipython",
    "version": 3
   },
   "file_extension": ".py",
   "mimetype": "text/x-python",
   "name": "python",
   "nbconvert_exporter": "python",
   "pygments_lexer": "ipython3",
   "version": "3.11.5"
  },
  "orig_nbformat": 4
 },
 "nbformat": 4,
 "nbformat_minor": 2
}
