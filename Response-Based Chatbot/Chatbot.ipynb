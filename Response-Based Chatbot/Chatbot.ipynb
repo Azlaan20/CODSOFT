{
 "cells": [
  {
   "cell_type": "markdown",
   "metadata": {},
   "source": [
    "> ## **ChatBot with Rule Based Responses**"
   ]
  },
  {
   "cell_type": "markdown",
   "metadata": {},
   "source": [
    "Import libraries"
   ]
  },
  {
   "cell_type": "code",
   "execution_count": null,
   "metadata": {},
   "outputs": [],
   "source": [
    "import os\n",
    "import openai\n",
    "from dotenv import load_dotenv, find_dotenv\n",
    "_ = load_dotenv(find_dotenv()) # read local .env file\n",
    "import panel as pn  # GUI\n",
    "pn.extension()"
   ]
  },
  {
   "cell_type": "markdown",
   "metadata": {},
   "source": [
    "Load the enviroment variables from the .env file"
   ]
  },
  {
   "cell_type": "code",
   "execution_count": null,
   "metadata": {},
   "outputs": [],
   "source": [
    "# Load environment variables from .env file\n",
    "load_dotenv()"
   ]
  },
  {
   "cell_type": "markdown",
   "metadata": {},
   "source": [
    "Define the environment and the functions "
   ]
  },
  {
   "cell_type": "code",
   "execution_count": null,
   "metadata": {},
   "outputs": [],
   "source": [
    "openai.api_key  = os.getenv('OPENAI_API_KEY')\n",
    "\n",
    "def get_completion(prompt, model=\"gpt-3.5-turbo\"):\n",
    "    messages = [{\"role\": \"user\", \"content\": prompt}]\n",
    "    response = openai.ChatCompletion.create(\n",
    "        model=model,\n",
    "        messages=messages,\n",
    "        temperature=0, # this is the degree of randomness of the model's output\n",
    "    )\n",
    "    return response.choices[0].message[\"content\"]\n"
   ]
  },
  {
   "cell_type": "code",
   "execution_count": null,
   "metadata": {},
   "outputs": [],
   "source": [
    "def get_completion_from_messages(messages, model=\"gpt-3.5-turbo\", temperature=0.5):\n",
    "    response = openai.ChatCompletion.create(\n",
    "        model=model,\n",
    "        messages=messages,\n",
    "        temperature=temperature, # this is the degree of randomness of the model's output\n",
    "    )\n",
    "#     print(str(response.choices[0].message))\n",
    "    return response.choices[0].message[\"content\"]\n"
   ]
  },
  {
   "cell_type": "markdown",
   "metadata": {},
   "source": [
    "Define a list to collect all the messages"
   ]
  },
  {
   "cell_type": "code",
   "execution_count": null,
   "metadata": {},
   "outputs": [],
   "source": [
    "context = [] # collect messages"
   ]
  },
  {
   "cell_type": "code",
   "execution_count": null,
   "metadata": {},
   "outputs": [],
   "source": [
    "\n",
    "def collect_messages(_):\n",
    "    prompt = inp.value_input\n",
    "    inp.value = ''\n",
    "    context.append({'role':'user', 'content':f\"{prompt}\"})\n",
    "    response = get_completion_from_messages(context) \n",
    "    context.append({'role':'assistant', 'content':f\"{response}\"})\n",
    "    panels.append(\n",
    "        pn.Row('User:', pn.pane.Markdown(prompt, width=600)))\n",
    "    panels.append(\n",
    "        pn.Row('Assistant:', pn.pane.Markdown(response, width=600, style={'background-color': '#F6F6F6'})))\n",
    " \n",
    "    return pn.Column(*panels)\n",
    "\n",
    "inp = pn.widgets.TextInput(value=\"Hi\", placeholder='Enter text here…')\n",
    "button_conversation = pn.widgets.Button(name=\"Chat!\")\n",
    "\n",
    "panels = []\n",
    "\n",
    "interactive_conversation = pn.bind(collect_messages, button_conversation)\n",
    "\n",
    "dashboard = pn.Column(\n",
    "    inp,\n",
    "    pn.Row(button_conversation),\n",
    "    pn.panel(interactive_conversation, loading_indicator=True, height=300),\n",
    ")\n"
   ]
  },
  {
   "cell_type": "markdown",
   "metadata": {},
   "source": [
    "Define the rules of the Chatbot system"
   ]
  },
  {
   "cell_type": "code",
   "execution_count": null,
   "metadata": {},
   "outputs": [],
   "source": [
    "context.append([ {'role':'system', 'content':\"\"\"\n",
    "You are a human talking to an AI assistant. The assistant is helpful, creative, clever, and very friendly.\\\n",
    "The assistant is very good at understanding language and can answer questions, summarize documents, and assist you with your work.\\\n",
    "The assistant can also tell jokes, have fun conversations, and give you advice on how to be more productive.\\\n",
    "The assistant is very friendly and will try to help you in any way it can.\\\n",
    "The assistant is very smart and can answer any question you ask it.\\\n",
    "The assistant is very helpful and will try to help you in any way it can.\\\n",
    "The assistant is very creative and can help you with your work.\\\n",
    "The assistant should not display or encourage any kind of bias.\\\n",
    "The assistant should not display or encourage any kind of racism.\\\n",
    "The assistant should not display or encourage any kind of sexism.\\\n",
    "The assistant should not display or encourage any kind of homophobia.\\\n",
    "The assistant should not display or encourage any kind of transphobia.\\\n",
    "The assistant should not display or encourage any kind of ableism.\\\n",
    "The assistant should not display or encourage any kind of ageism.\\\n",
    "The assistant should not display or encourage any kind of discrimination.\\\n",
    "The assistant should not display or encourage any kind of violence.\\\n",
    "The assistant should not display or encourage any kind of hate speech.\\\n",
    "The assistant should not display or encourage any kind of harassment.\\\n",
    "The assistant should not display or encourage any kind of bullying.\\\n",
    "The assistant should not display or encourage any kind of abuse.\\\n",
    "The assistant should not display or encourage any kind of sexual harassment.\\\n",
    "The assistant should not display or encourage any kind of sexual assault.\\\n",
    "The assistant should not talk about any form of explicit content or make any explicit jokes.\\\n",
    "The assistant should be extremely polite and friendly.\\\n",
    "If there is any information that the assistant does not know, it should say so.\\\n",
    "If there is any information that violates the above rules, the assistant should not display it.\\\n",
    "First find relevant information and then answer the question based on the relevant information.\\\n",
    "The assistant should not display sensitive information.\\\n",
    "The assistant should not display any information that is not relevant to the question.\\\n",
    "The assistant should not display any information that is not relevant to the conversation.\\\n",
    "\"\"\"} ])  # accumulate messages\n"
   ]
  },
  {
   "cell_type": "code",
   "execution_count": null,
   "metadata": {},
   "outputs": [],
   "source": [
    "dashboard.servable()"
   ]
  }
 ],
 "metadata": {
  "kernelspec": {
   "display_name": "Python 3",
   "language": "python",
   "name": "python3"
  },
  "language_info": {
   "codemirror_mode": {
    "name": "ipython",
    "version": 3
   },
   "file_extension": ".py",
   "mimetype": "text/x-python",
   "name": "python",
   "nbconvert_exporter": "python",
   "pygments_lexer": "ipython3",
   "version": "3.11.4"
  },
  "orig_nbformat": 4
 },
 "nbformat": 4,
 "nbformat_minor": 2
}
