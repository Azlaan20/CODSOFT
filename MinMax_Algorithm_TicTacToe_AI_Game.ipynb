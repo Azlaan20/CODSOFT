{
  "cells": [
    {
      "cell_type": "code",
      "execution_count": 1,
      "metadata": {},
      "outputs": [],
      "source": [
        "import tkinter as tk"
      ]
    },
    {
      "cell_type": "code",
      "execution_count": 2,
      "metadata": {
        "id": "8c0M6_ksFLvI"
      },
      "outputs": [],
      "source": [
        "def analyze_board(board):\n",
        "    check_board = [[0, 1, 2], [3, 4, 5], [6, 7, 8], [0, 3, 6], [1, 4, 7], [2, 5, 8], [0, 4, 8], [2, 4, 6]]\n",
        "    for i in range(0, 8):\n",
        "        if (board[check_board[i][0]] != 0 and board[check_board[i][0]] == board[check_board[i][1]] and board[check_board[i][0]] == board[check_board[i][2]]):\n",
        "            return board[check_board[i][0]]\n",
        "    return 0\n",
        "\n",
        "def user_turn(pos):\n",
        "    if board[pos] == 0 and current_player == \"X\":\n",
        "        buttons[pos].config(text=\"X\", state=\"disabled\")\n",
        "        board[pos] = -1\n",
        "        check_game_status()\n",
        "        switch_turn()\n",
        "        if current_player == \"O\":\n",
        "            comp_turn()\n",
        "\n",
        "def comp_turn():\n",
        "    if current_player == \"O\":\n",
        "        pos = -1\n",
        "        value = -2\n",
        "        for i in range(0, 9):\n",
        "            if board[i] == 0:\n",
        "                board[i] = 1\n",
        "                score = -minmax(board, -1)\n",
        "                board[i] = 0\n",
        "                if score > value:\n",
        "                    value = score\n",
        "                    pos = i\n",
        "        buttons[pos].config(text=\"O\", state=\"disabled\")\n",
        "        board[pos] = 1\n",
        "        check_game_status()\n",
        "        switch_turn()\n",
        "\n",
        "def minmax(board, player):\n",
        "    x = analyze_board(board)\n",
        "    if x != 0:\n",
        "        return x * player\n",
        "    pos = -1\n",
        "    value = -2\n",
        "    for i in range(0, 9):\n",
        "        if board[i] == 0:\n",
        "            board[i] = player\n",
        "            score = -minmax(board, player * -1)\n",
        "            board[i] = 0\n",
        "            if score > value:\n",
        "                value = score\n",
        "                pos = i\n",
        "    if pos == -1:\n",
        "        return 0\n",
        "    return value\n",
        "\n",
        "def check_game_status():\n",
        "    x = analyze_board(board)\n",
        "    if x == 0 and 0 not in board:\n",
        "        status_label.config(text=\"Draw!\")\n",
        "    elif x == -1:\n",
        "        status_label.config(text=\"Player X Wins! O Loses\")\n",
        "    elif x == 1:\n",
        "        status_label.config(text=\"Player O Wins! X Loses\")\n",
        "\n",
        "def switch_turn():\n",
        "    global current_player\n",
        "    current_player = \"X\" if current_player == \"O\" else \"O\"\n",
        "\n",
        "board = [0, 0, 0, 0, 0, 0, 0, 0, 0]\n",
        "current_player = \"X\"  # Player X starts the game\n",
        "\n",
        "root = tk.Tk()\n",
        "root.title(\"Tic-Tac-Toe\")\n",
        "\n",
        "buttons = []\n",
        "for i in range(9):\n",
        "    button = tk.Button(root, text=\"\", width=10, height=3, command=lambda i=i: user_turn(i))\n",
        "    button.grid(row=i // 3, column=i % 3)\n",
        "    buttons.append(button)\n",
        "\n",
        "status_label = tk.Label(root, text=\"\")\n",
        "status_label.grid(row=3, column=0, columnspan=3)\n",
        "\n",
        "root.mainloop()\n"
      ]
    }
  ],
  "metadata": {
    "colab": {
      "provenance": []
    },
    "kernelspec": {
      "display_name": "Python 3",
      "name": "python3"
    },
    "language_info": {
      "codemirror_mode": {
        "name": "ipython",
        "version": 3
      },
      "file_extension": ".py",
      "mimetype": "text/x-python",
      "name": "python",
      "nbconvert_exporter": "python",
      "pygments_lexer": "ipython3",
      "version": "3.11.4"
    }
  },
  "nbformat": 4,
  "nbformat_minor": 0
}
