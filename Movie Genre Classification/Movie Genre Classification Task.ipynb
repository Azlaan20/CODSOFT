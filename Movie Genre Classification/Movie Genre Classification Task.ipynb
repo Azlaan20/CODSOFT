{
 "cells": [
  {
   "cell_type": "markdown",
   "metadata": {},
   "source": [
    "> ## **Movie Genre Classification Task** ##"
   ]
  },
  {
   "cell_type": "markdown",
   "metadata": {},
   "source": [
    "We will start by importing all of the necessary libraries for our task.\n"
   ]
  },
  {
   "cell_type": "code",
   "execution_count": 1,
   "metadata": {},
   "outputs": [],
   "source": [
    "import pandas as pd\n",
    "from sklearn.preprocessing import LabelEncoder\n",
    "from sklearn.model_selection import train_test_split, GridSearchCV\n",
    "from sklearn.feature_extraction.text import TfidfVectorizer\n",
    "from sklearn.naive_bayes import MultinomialNB\n",
    "from sklearn.linear_model import LogisticRegression\n",
    "from sklearn.svm import SVC\n",
    "from sklearn.metrics import accuracy_score, classification_report\n",
    "import numpy as np\n",
    "import csv\n",
    "import matplotlib.pyplot as plt\n",
    "import seaborn as sns\n",
    "import re\n",
    "import nltk\n",
    "from nltk.corpus import stopwords\n",
    "from nltk.stem import WordNetLemmatizer\n",
    "from nltk.tokenize import word_tokenize\n",
    "from nltk.stem import PorterStemmer\n",
    "from sklearn.model_selection import RandomizedSearchCV"
   ]
  },
  {
   "cell_type": "markdown",
   "metadata": {},
   "source": [
    "Our data was present in a text file so we will load the data from our text files."
   ]
  },
  {
   "cell_type": "code",
   "execution_count": 2,
   "metadata": {},
   "outputs": [],
   "source": [
    "# Read the data from the txt file\n",
    "with open('train_data.txt', 'r', encoding='utf-8') as file1:\n",
    "    data = file1.read()"
   ]
  },
  {
   "cell_type": "code",
   "execution_count": 3,
   "metadata": {},
   "outputs": [],
   "source": [
    "with open('test_data.txt', 'r',encoding='utf-8') as file2:\n",
    "    test_data = file2.read()"
   ]
  },
  {
   "cell_type": "code",
   "execution_count": 4,
   "metadata": {},
   "outputs": [],
   "source": [
    "with open('test_data_solution.txt', 'r',encoding='utf-8') as file3:\n",
    "    test_data_solutions = file3.read()"
   ]
  },
  {
   "cell_type": "markdown",
   "metadata": {},
   "source": [
    "Now, in a text file the issue is that although the different rows seem seperate but the code won't be able to differentiate between the different rows. So, we will have to split the data into different rows."
   ]
  },
  {
   "cell_type": "code",
   "execution_count": 5,
   "metadata": {},
   "outputs": [],
   "source": [
    "# Split the data into individual movie entries\n",
    "movie_entries_train = data.split('\\n')\n",
    "movie_entries_test = test_data.split('\\n')\n",
    "movie_entries_solutions = test_data_solutions.split('\\n')"
   ]
  },
  {
   "cell_type": "markdown",
   "metadata": {},
   "source": [
    "Now we will store these data rows into these arrays after processing the data so that it can be used for our task."
   ]
  },
  {
   "cell_type": "code",
   "execution_count": 6,
   "metadata": {},
   "outputs": [],
   "source": [
    "# Initialize empty lists to store extracted information\n",
    "movie_ids_train = []\n",
    "titles_train = []\n",
    "genres_train = []\n",
    "plot_summaries_train = []"
   ]
  },
  {
   "cell_type": "code",
   "execution_count": 7,
   "metadata": {},
   "outputs": [],
   "source": [
    "movie_ids_test = []\n",
    "titles_test = []\n",
    "plot_summaries_test = []"
   ]
  },
  {
   "cell_type": "code",
   "execution_count": 8,
   "metadata": {},
   "outputs": [],
   "source": [
    "movie_ids_solutions = []\n",
    "titles_solutions = []\n",
    "genres_solutions = []\n",
    "plot_summaries_solutions = []"
   ]
  },
  {
   "cell_type": "code",
   "execution_count": 9,
   "metadata": {},
   "outputs": [],
   "source": [
    "# Process each movie entry\n",
    "for entry in movie_entries_train:\n",
    "    if entry.strip():  # Skip empty lines\n",
    "        parts = entry.split(':::')\n",
    "        if len(parts) == 4:\n",
    "            movie_ids_train.append(parts[0].strip())\n",
    "            titles_train.append(parts[1].strip())\n",
    "            genres_train.append(parts[2].strip())\n",
    "            plot_summaries_train.append(parts[3].strip())\n"
   ]
  },
  {
   "cell_type": "code",
   "execution_count": 10,
   "metadata": {},
   "outputs": [],
   "source": [
    "for entry in movie_entries_test:\n",
    "    if entry.strip():  # Skip empty lines\n",
    "        parts = entry.split(':::')\n",
    "        if len(parts) == 3:\n",
    "            movie_ids_test.append(parts[0].strip())\n",
    "            titles_test.append(parts[1].strip())\n",
    "            plot_summaries_test.append(parts[2].strip())\n"
   ]
  },
  {
   "cell_type": "code",
   "execution_count": 11,
   "metadata": {},
   "outputs": [],
   "source": [
    "for entry in movie_entries_solutions:\n",
    "    if entry.strip():  # Skip empty lines\n",
    "        parts = entry.split(':::')\n",
    "        if len(parts) == 4:\n",
    "            movie_ids_solutions.append(parts[0].strip())\n",
    "            titles_solutions.append(parts[1].strip())\n",
    "            genres_solutions.append(parts[2].strip())\n",
    "            plot_summaries_solutions.append(parts[3].strip())"
   ]
  },
  {
   "cell_type": "markdown",
   "metadata": {},
   "source": [
    "Lets see how our data looks like and whether it has been correctly stored or not."
   ]
  },
  {
   "cell_type": "code",
   "execution_count": 12,
   "metadata": {},
   "outputs": [
    {
     "name": "stdout",
     "output_type": "stream",
     "text": [
      "Training Data Movie ID: 1\n",
      "Training Data Title: Oscar et la dame rose (2009)\n",
      "Training Data Genre: drama\n",
      "Training Data Plot Summary: Listening in to a conversation between his doctor and parents, 10-year-old Oscar learns what nobody has the courage to tell him. He only has a few weeks to live. Furious, he refuses to speak to anyone except straight-talking Rose, the lady in pink he meets on the hospital stairs. As Christmas approaches, Rose uses her fantastical experiences as a professional wrestler, her imagination, wit and charm to allow Oscar to live life and love to the full, in the company of his friends Pop Corn, Einstein, Bacon and childhood sweetheart Peggy Blue.\n"
     ]
    }
   ],
   "source": [
    "# Print the extracted information for the first movie entry\n",
    "print(\"Training Data Movie ID:\", movie_ids_train[0])\n",
    "print(\"Training Data Title:\", titles_train[0])\n",
    "print(\"Training Data Genre:\", genres_train[0])\n",
    "print(\"Training Data Plot Summary:\", plot_summaries_train[0])"
   ]
  },
  {
   "cell_type": "code",
   "execution_count": 13,
   "metadata": {},
   "outputs": [
    {
     "name": "stdout",
     "output_type": "stream",
     "text": [
      "Test Data Movie ID: 1\n",
      "Test Data Title: Edgar's Lunch (1998)\n",
      "Test Data Plot Summary: L.R. Brane loves his life - his car, his apartment, his job, but especially his girlfriend, Vespa. One day while showering, Vespa runs out of shampoo. L.R. runs across the street to a convenience store to buy some more, a quick trip of no more than a few minutes. When he returns, Vespa is gone and every trace of her existence has been wiped out. L.R.'s life becomes a tortured existence as one strange event after another occurs to confirm in his mind that a conspiracy is working against his finding Vespa.\n"
     ]
    }
   ],
   "source": [
    "print(\"Test Data Movie ID:\", movie_ids_test[0])\n",
    "print(\"Test Data Title:\", titles_test[0])\n",
    "print(\"Test Data Plot Summary:\", plot_summaries_test[0])"
   ]
  },
  {
   "cell_type": "code",
   "execution_count": 14,
   "metadata": {},
   "outputs": [
    {
     "name": "stdout",
     "output_type": "stream",
     "text": [
      "Solutions Data Movie ID: 1\n",
      "Solutions Data Title: Edgar's Lunch (1998)\n",
      "Solutions Data Genre: thriller\n",
      "Solutions Data Plot Summary: L.R. Brane loves his life - his car, his apartment, his job, but especially his girlfriend, Vespa. One day while showering, Vespa runs out of shampoo. L.R. runs across the street to a convenience store to buy some more, a quick trip of no more than a few minutes. When he returns, Vespa is gone and every trace of her existence has been wiped out. L.R.'s life becomes a tortured existence as one strange event after another occurs to confirm in his mind that a conspiracy is working against his finding Vespa.\n"
     ]
    }
   ],
   "source": [
    "print(\"Solutions Data Movie ID:\", movie_ids_solutions[0])\n",
    "print(\"Solutions Data Title:\", titles_solutions[0])\n",
    "print(\"Solutions Data Genre:\", genres_solutions[0])\n",
    "print(\"Solutions Data Plot Summary:\", plot_summaries_solutions[0])"
   ]
  },
  {
   "cell_type": "markdown",
   "metadata": {},
   "source": [
    "Afterwards I combined the different elements of similar data and stored them into a singular tuple."
   ]
  },
  {
   "cell_type": "code",
   "execution_count": 15,
   "metadata": {},
   "outputs": [],
   "source": [
    "# Create a list of tuples containing the extracted information\n",
    "movie_data_train = list(zip(movie_ids_train, titles_train, genres_train, plot_summaries_train))"
   ]
  },
  {
   "cell_type": "code",
   "execution_count": 16,
   "metadata": {},
   "outputs": [],
   "source": [
    "movie_data_test = list(zip(movie_ids_test, titles_test, plot_summaries_test))"
   ]
  },
  {
   "cell_type": "code",
   "execution_count": 17,
   "metadata": {},
   "outputs": [],
   "source": [
    "movie_data_solutions = list(zip(movie_ids_solutions, titles_solutions, genres_solutions, plot_summaries_solutions))"
   ]
  },
  {
   "cell_type": "markdown",
   "metadata": {},
   "source": [
    "Now, usually, I find it relatively convinient to work with data that is in the csv file format. So I will shift my data into three seperate csv files. One for the training data, one for the test data and last for the solutions data."
   ]
  },
  {
   "cell_type": "code",
   "execution_count": 18,
   "metadata": {},
   "outputs": [],
   "source": [
    "# Define the CSV file name\n",
    "csv_file_train = 'movie_data_train.csv'\n",
    "csv_file_test = 'movie_data_test.csv'\n",
    "csv_file_solution = 'movie_data_solution.csv'"
   ]
  },
  {
   "cell_type": "code",
   "execution_count": 19,
   "metadata": {},
   "outputs": [],
   "source": [
    "# Write the data to the CSV file\n",
    "with open(csv_file_train, 'w', newline='', encoding='utf-8') as file1:\n",
    "    writer = csv.writer(file1)\n",
    "    writer.writerow([\"Movie ID\", \"Title\", \"Genre\", \"Plot Summary\"])  # Write header\n",
    "    writer.writerows(movie_data_train)  # Write the data rows"
   ]
  },
  {
   "cell_type": "code",
   "execution_count": 20,
   "metadata": {},
   "outputs": [],
   "source": [
    "# Write the data to the CSV file\n",
    "with open(csv_file_test, 'w', newline='', encoding='utf-8') as file2:\n",
    "    writer = csv.writer(file2)\n",
    "    writer.writerow([\"Movie ID\", \"Title\", \"Plot Summary\"])  # Write header\n",
    "    writer.writerows(movie_data_test)  # Write the data rows"
   ]
  },
  {
   "cell_type": "code",
   "execution_count": 21,
   "metadata": {},
   "outputs": [],
   "source": [
    "# Write the data to the CSV file\n",
    "with open(csv_file_solution, 'w', newline='', encoding='utf-8') as file3:\n",
    "    writer = csv.writer(file3)\n",
    "    writer.writerow([\"Movie ID\", \"Title\", \"Genre\", \"Plot Summary\"])  # Write header\n",
    "    writer.writerows(movie_data_solutions)  # Write the data rows"
   ]
  },
  {
   "cell_type": "markdown",
   "metadata": {},
   "source": [
    "Now we will load the data into a pandas dataframe and assign the data to our variables."
   ]
  },
  {
   "cell_type": "code",
   "execution_count": 22,
   "metadata": {},
   "outputs": [],
   "source": [
    "# Load training data\n",
    "train_data = pd.read_csv(\"movie_data_train.csv\")\n",
    "test_data = pd.read_csv(\"movie_data_test.csv\")\n",
    "solution_data = pd.read_csv(\"movie_data_solution.csv\")"
   ]
  },
  {
   "cell_type": "markdown",
   "metadata": {},
   "source": [
    "Ok. Now the data is ready for cleaning. So, we will start by removing the unnecessary columns from our data."
   ]
  },
  {
   "cell_type": "code",
   "execution_count": 23,
   "metadata": {},
   "outputs": [
    {
     "data": {
      "text/plain": [
       "0"
      ]
     },
     "execution_count": 23,
     "metadata": {},
     "output_type": "execute_result"
    }
   ],
   "source": [
    "train_data['Plot Summary'].isna().sum() "
   ]
  },
  {
   "cell_type": "code",
   "execution_count": 24,
   "metadata": {},
   "outputs": [],
   "source": [
    "train_data.dropna(subset=['Plot Summary'], inplace=True)"
   ]
  },
  {
   "cell_type": "code",
   "execution_count": 25,
   "metadata": {},
   "outputs": [
    {
     "data": {
      "text/plain": [
       "128"
      ]
     },
     "execution_count": 25,
     "metadata": {},
     "output_type": "execute_result"
    }
   ],
   "source": [
    "train_data['Plot Summary'].duplicated().sum()"
   ]
  },
  {
   "cell_type": "code",
   "execution_count": 26,
   "metadata": {},
   "outputs": [],
   "source": [
    "train_data.drop_duplicates(inplace=True)"
   ]
  },
  {
   "cell_type": "markdown",
   "metadata": {},
   "source": [
    "There were no null values but duplicated values were present so we removed them directly from our data. Now, lets visualise our data and see the distribution of our data based upon the different genres.\n"
   ]
  },
  {
   "cell_type": "code",
   "execution_count": 27,
   "metadata": {},
   "outputs": [
    {
     "data": {
      "image/png": "[encoded data removed]",
      "text/plain": [
       "<Figure size 1200x800 with 1 Axes>"
      ]
     },
     "metadata": {},
     "output_type": "display_data"
    }
   ],
   "source": [
    "plt.figure(figsize=(12, 8))\n",
    "sns.countplot(x='Genre', data= train_data, palette = 'viridis')\n",
    "plt.title('Genre Distribution', fontsize=20)\n",
    "plt.xlabel('Genres', fontsize=16)\n",
    "plt.ylabel('Count', fontsize=16)\n",
    "plt.xticks(rotation='vertical')\n",
    "plt.show()\n"
   ]
  },
  {
   "cell_type": "markdown",
   "metadata": {},
   "source": [
    "After loading the data, we would now move onto preprocessing the data. We will lemmitize the data and tokenize the data. We can also remove the stop words from our data but I found that it was computationally expensive and extremely time-consuming which was not convinient for our task."
   ]
  },
  {
   "cell_type": "code",
   "execution_count": 28,
   "metadata": {},
   "outputs": [],
   "source": [
    "# Preprocess the text data\n",
    "def preprocess_text(text):\n",
    "    lemmatizer = WordNetLemmatizer()\n",
    "    tokens = word_tokenize(text.lower())\n",
    "    tokens = [lemmatizer.lemmatize(word) for word in tokens if word.isalpha()]\n",
    "    return ' '.join(tokens)"
   ]
  },
  {
   "cell_type": "code",
   "execution_count": 29,
   "metadata": {},
   "outputs": [],
   "source": [
    "X_train = train_data['Plot Summary'].apply(preprocess_text)\n",
    "y_train = train_data['Genre']\n",
    "X_test = test_data['Plot Summary'].apply(preprocess_text)\n",
    "y_test = solution_data['Genre']"
   ]
  },
  {
   "cell_type": "markdown",
   "metadata": {},
   "source": [
    "Our objective are the genres so we will use a label encoder to encode the genres into numerical values. This will help us in training our model. "
   ]
  },
  {
   "cell_type": "code",
   "execution_count": 30,
   "metadata": {},
   "outputs": [],
   "source": [
    "# Encode genres using label encoding\n",
    "label_encoder = LabelEncoder()\n",
    "y_train = label_encoder.fit_transform(y_train)\n",
    "y_test = label_encoder.transform(y_test)"
   ]
  },
  {
   "cell_type": "markdown",
   "metadata": {},
   "source": [
    "A common method is for us to store the necessary features into vectors using the TF-IDF vectorizer. The feature vectors are stored in a sparse matrix. We will use the TF-IDF vectorizer to convert our data into feature vectors."
   ]
  },
  {
   "cell_type": "code",
   "execution_count": 31,
   "metadata": {},
   "outputs": [],
   "source": [
    "# Create a TF-IDF vectorizer\n",
    "tfidf_vectorizer = TfidfVectorizer(max_features=5000)  # You can adjust max_features as needed\n",
    "X_train_tfidf = tfidf_vectorizer.fit_transform(X_train)\n",
    "X_test_tfidf = tfidf_vectorizer.transform(X_test)\n"
   ]
  },
  {
   "cell_type": "markdown",
   "metadata": {},
   "source": [
    "> ## **Model:** Naive Bayes ##"
   ]
  },
  {
   "cell_type": "markdown",
   "metadata": {},
   "source": [
    "We will now train our Naive Bayes model and test it on our data. We are going to take a range of values of alpha and use the GridSearchCV to search for the best value of alpha, so that we can obtain best results. More values can be tested but they will take more time due to the data being large. "
   ]
  },
  {
   "cell_type": "code",
   "execution_count": 32,
   "metadata": {},
   "outputs": [],
   "source": [
    "# Define hyperparameters to tune for Naive Bayes\n",
    "param_grid_nb = {\n",
    "    'alpha': [0.001, 0.01, 0.1, 1, 10]\n",
    "}\n"
   ]
  },
  {
   "cell_type": "code",
   "execution_count": 33,
   "metadata": {},
   "outputs": [],
   "source": [
    "# Create a grid search with cross-validation for Naive Bayes\n",
    "grid_search_nb = GridSearchCV(MultinomialNB(), param_grid_nb, cv=5, verbose=1)"
   ]
  },
  {
   "cell_type": "code",
   "execution_count": 34,
   "metadata": {},
   "outputs": [
    {
     "name": "stdout",
     "output_type": "stream",
     "text": [
      "Fitting 5 folds for each of 5 candidates, totalling 25 fits\n"
     ]
    },
    {
     "data": {
      "text/html": [
       "<style>#sk-container-id-1 {color: black;}#sk-container-id-1 pre{padding: 0;}#sk-container-id-1 div.sk-toggleable {background-color: white;}#sk-container-id-1 label.sk-toggleable__label {cursor: pointer;display: block;width: 100%;margin-bottom: 0;padding: 0.3em;box-sizing: border-box;text-align: center;}#sk-container-id-1 label.sk-toggleable__label-arrow:before {content: \"▸\";float: left;margin-right: 0.25em;color: #696969;}#sk-container-id-1 label.sk-toggleable__label-arrow:hover:before {color: black;}#sk-container-id-1 div.sk-estimator:hover label.sk-toggleable__label-arrow:before {color: black;}#sk-container-id-1 div.sk-toggleable__content {max-height: 0;max-width: 0;overflow: hidden;text-align: left;background-color: #f0f8ff;}#sk-container-id-1 div.sk-toggleable__content pre {margin: 0.2em;color: black;border-radius: 0.25em;background-color: #f0f8ff;}#sk-container-id-1 input.sk-toggleable__control:checked~div.sk-toggleable__content {max-height: 200px;max-width: 100%;overflow: auto;}#sk-container-id-1 input.sk-toggleable__control:checked~label.sk-toggleable__label-arrow:before {content: \"▾\";}#sk-container-id-1 div.sk-estimator input.sk-toggleable__control:checked~label.sk-toggleable__label {background-color: #d4ebff;}#sk-container-id-1 div.sk-label input.sk-toggleable__control:checked~label.sk-toggleable__label {background-color: #d4ebff;}#sk-container-id-1 input.sk-hidden--visually {border: 0;clip: rect(1px 1px 1px 1px);clip: rect(1px, 1px, 1px, 1px);height: 1px;margin: -1px;overflow: hidden;padding: 0;position: absolute;width: 1px;}#sk-container-id-1 div.sk-estimator {font-family: monospace;background-color: #f0f8ff;border: 1px dotted black;border-radius: 0.25em;box-sizing: border-box;margin-bottom: 0.5em;}#sk-container-id-1 div.sk-estimator:hover {background-color: #d4ebff;}#sk-container-id-1 div.sk-parallel-item::after {content: \"\";width: 100%;border-bottom: 1px solid gray;flex-grow: 1;}#sk-container-id-1 div.sk-label:hover label.sk-toggleable__label {background-color: #d4ebff;}#sk-container-id-1 div.sk-serial::before {content: \"\";position: absolute;border-left: 1px solid gray;box-sizing: border-box;top: 0;bottom: 0;left: 50%;z-index: 0;}#sk-container-id-1 div.sk-serial {display: flex;flex-direction: column;align-items: center;background-color: white;padding-right: 0.2em;padding-left: 0.2em;position: relative;}#sk-container-id-1 div.sk-item {position: relative;z-index: 1;}#sk-container-id-1 div.sk-parallel {display: flex;align-items: stretch;justify-content: center;background-color: white;position: relative;}#sk-container-id-1 div.sk-item::before, #sk-container-id-1 div.sk-parallel-item::before {content: \"\";position: absolute;border-left: 1px solid gray;box-sizing: border-box;top: 0;bottom: 0;left: 50%;z-index: -1;}#sk-container-id-1 div.sk-parallel-item {display: flex;flex-direction: column;z-index: 1;position: relative;background-color: white;}#sk-container-id-1 div.sk-parallel-item:first-child::after {align-self: flex-end;width: 50%;}#sk-container-id-1 div.sk-parallel-item:last-child::after {align-self: flex-start;width: 50%;}#sk-container-id-1 div.sk-parallel-item:only-child::after {width: 0;}#sk-container-id-1 div.sk-dashed-wrapped {border: 1px dashed gray;margin: 0 0.4em 0.5em 0.4em;box-sizing: border-box;padding-bottom: 0.4em;background-color: white;}#sk-container-id-1 div.sk-label label {font-family: monospace;font-weight: bold;display: inline-block;line-height: 1.2em;}#sk-container-id-1 div.sk-label-container {text-align: center;}#sk-container-id-1 div.sk-container {/* jupyter's `normalize.less` sets `[hidden] { display: none; }` but bootstrap.min.css set `[hidden] { display: none !important; }` so we also need the `!important` here to be able to override the default hidden behavior on the sphinx rendered scikit-learn.org. See: https://github.com/scikit-learn/scikit-learn/issues/21755 */display: inline-block !important;position: relative;}#sk-container-id-1 div.sk-text-repr-fallback {display: none;}</style><div id=\"sk-container-id-1\" class=\"sk-top-container\"><div class=\"sk-text-repr-fallback\"><pre>GridSearchCV(cv=5, estimator=MultinomialNB(),\n",
       "             param_grid={&#x27;alpha&#x27;: [0.001, 0.01, 0.1, 1, 10]}, verbose=1)</pre><b>In a Jupyter environment, please rerun this cell to show the HTML representation or trust the notebook. <br />On GitHub, the HTML representation is unable to render, please try loading this page with nbviewer.org.</b></div><div class=\"sk-container\" hidden><div class=\"sk-item sk-dashed-wrapped\"><div class=\"sk-label-container\"><div class=\"sk-label sk-toggleable\"><input class=\"sk-toggleable__control sk-hidden--visually\" id=\"sk-estimator-id-1\" type=\"checkbox\" ><label for=\"sk-estimator-id-1\" class=\"sk-toggleable__label sk-toggleable__label-arrow\">GridSearchCV</label><div class=\"sk-toggleable__content\"><pre>GridSearchCV(cv=5, estimator=MultinomialNB(),\n",
       "             param_grid={&#x27;alpha&#x27;: [0.001, 0.01, 0.1, 1, 10]}, verbose=1)</pre></div></div></div><div class=\"sk-parallel\"><div class=\"sk-parallel-item\"><div class=\"sk-item\"><div class=\"sk-label-container\"><div class=\"sk-label sk-toggleable\"><input class=\"sk-toggleable__control sk-hidden--visually\" id=\"sk-estimator-id-2\" type=\"checkbox\" ><label for=\"sk-estimator-id-2\" class=\"sk-toggleable__label sk-toggleable__label-arrow\">estimator: MultinomialNB</label><div class=\"sk-toggleable__content\"><pre>MultinomialNB()</pre></div></div></div><div class=\"sk-serial\"><div class=\"sk-item\"><div class=\"sk-estimator sk-toggleable\"><input class=\"sk-toggleable__control sk-hidden--visually\" id=\"sk-estimator-id-3\" type=\"checkbox\" ><label for=\"sk-estimator-id-3\" class=\"sk-toggleable__label sk-toggleable__label-arrow\">MultinomialNB</label><div class=\"sk-toggleable__content\"><pre>MultinomialNB()</pre></div></div></div></div></div></div></div></div></div></div>"
      ],
      "text/plain": [
       "GridSearchCV(cv=5, estimator=MultinomialNB(),\n",
       "             param_grid={'alpha': [0.001, 0.01, 0.1, 1, 10]}, verbose=1)"
      ]
     },
     "execution_count": 34,
     "metadata": {},
     "output_type": "execute_result"
    }
   ],
   "source": [
    "# Perform grid search on the training data for Naive Bayes\n",
    "grid_search_nb.fit(X_train_tfidf, y_train)"
   ]
  },
  {
   "cell_type": "code",
   "execution_count": 35,
   "metadata": {},
   "outputs": [],
   "source": [
    "# Get the best hyperparameters and the corresponding model for Naive Bayes\n",
    "best_nb = grid_search_nb.best_estimator_"
   ]
  },
  {
   "cell_type": "code",
   "execution_count": 36,
   "metadata": {},
   "outputs": [],
   "source": [
    "# Predict on the test data using the best Naive Bayes model\n",
    "y_pred_nb = best_nb.predict(X_test_tfidf)"
   ]
  },
  {
   "cell_type": "code",
   "execution_count": 37,
   "metadata": {},
   "outputs": [
    {
     "name": "stdout",
     "output_type": "stream",
     "text": [
      "Best Naive Bayes Performance on Test Data:\n",
      "              precision    recall  f1-score   support\n",
      "\n",
      "      action       0.51      0.17      0.25      1314\n",
      "       adult       0.52      0.18      0.27       590\n",
      "   adventure       0.63      0.10      0.17       775\n",
      "   animation       0.61      0.02      0.04       498\n",
      "   biography       0.00      0.00      0.00       264\n",
      "      comedy       0.53      0.43      0.47      7446\n",
      "       crime       0.18      0.00      0.01       505\n",
      " documentary       0.59      0.87      0.70     13096\n",
      "       drama       0.47      0.81      0.60     13612\n",
      "      family       0.70      0.03      0.05       783\n",
      "     fantasy       0.45      0.03      0.06       322\n",
      "   game-show       0.92      0.52      0.67       193\n",
      "     history       0.00      0.00      0.00       243\n",
      "      horror       0.70      0.38      0.50      2204\n",
      "       music       0.64      0.46      0.54       731\n",
      "     musical       0.00      0.00      0.00       276\n",
      "     mystery       1.00      0.00      0.01       318\n",
      "        news       1.00      0.02      0.03       181\n",
      "  reality-tv       0.55      0.10      0.18       883\n",
      "     romance       0.50      0.00      0.00       672\n",
      "      sci-fi       0.62      0.17      0.27       646\n",
      "       short       0.54      0.13      0.21      5072\n",
      "       sport       0.72      0.29      0.41       431\n",
      "   talk-show       0.55      0.11      0.18       391\n",
      "    thriller       0.37      0.04      0.07      1590\n",
      "         war       0.80      0.03      0.06       132\n",
      "     western       0.93      0.72      0.81      1032\n",
      "\n",
      "    accuracy                           0.54     54200\n",
      "   macro avg       0.56      0.21      0.24     54200\n",
      "weighted avg       0.54      0.54      0.48     54200\n",
      "\n"
     ]
    }
   ],
   "source": [
    "# Evaluate the best Naive Bayes model on the test data\n",
    "print(\"Best Naive Bayes Performance on Test Data:\")\n",
    "print(classification_report(y_test, y_pred_nb, target_names=label_encoder.classes_, zero_division = 0))"
   ]
  },
  {
   "cell_type": "markdown",
   "metadata": {},
   "source": [
    "Based upon our evaluation of the Naives Bayes Model, the best value of alpha for us would just have an accuracy of 0.54 which is not good enough for our task. So, we will try to use a different model for our task. We will now test the **Logistic** Regression Model."
   ]
  },
  {
   "cell_type": "markdown",
   "metadata": {},
   "source": [
    "> ## **Model:** Logistic Regression ##"
   ]
  },
  {
   "cell_type": "markdown",
   "metadata": {},
   "source": [
    "After Naive Bayes, we will now test the Logistic Regression Model. We will use the GridSearchCV to search for the best value of C, so that we can obtain best results. More values can be tested but they will take more time due to the data being large."
   ]
  },
  {
   "cell_type": "code",
   "execution_count": 38,
   "metadata": {},
   "outputs": [],
   "source": [
    "param_grid_log_reg = {\n",
    "    'C': [0.001, 0.01, 0.1, 1],\n",
    "    'max_iter': [100, 500, 1000, 5000],\n",
    "    'solver': ['liblinear'],  # Use 'liblinear' solver\n",
    "    'penalty': ['l2']  # Use L2 regularization\n",
    "}\n"
   ]
  },
  {
   "cell_type": "code",
   "execution_count": 39,
   "metadata": {},
   "outputs": [],
   "source": [
    "# Create a grid search with cross-validation\n",
    "grid_search = GridSearchCV(LogisticRegression(), param_grid_log_reg, cv=5, verbose=1)"
   ]
  },
  {
   "cell_type": "code",
   "execution_count": 40,
   "metadata": {},
   "outputs": [
    {
     "name": "stdout",
     "output_type": "stream",
     "text": [
      "Fitting 5 folds for each of 16 candidates, totalling 80 fits\n"
     ]
    },
    {
     "data": {
      "text/html": [
       "<style>#sk-container-id-2 {color: black;}#sk-container-id-2 pre{padding: 0;}#sk-container-id-2 div.sk-toggleable {background-color: white;}#sk-container-id-2 label.sk-toggleable__label {cursor: pointer;display: block;width: 100%;margin-bottom: 0;padding: 0.3em;box-sizing: border-box;text-align: center;}#sk-container-id-2 label.sk-toggleable__label-arrow:before {content: \"▸\";float: left;margin-right: 0.25em;color: #696969;}#sk-container-id-2 label.sk-toggleable__label-arrow:hover:before {color: black;}#sk-container-id-2 div.sk-estimator:hover label.sk-toggleable__label-arrow:before {color: black;}#sk-container-id-2 div.sk-toggleable__content {max-height: 0;max-width: 0;overflow: hidden;text-align: left;background-color: #f0f8ff;}#sk-container-id-2 div.sk-toggleable__content pre {margin: 0.2em;color: black;border-radius: 0.25em;background-color: #f0f8ff;}#sk-container-id-2 input.sk-toggleable__control:checked~div.sk-toggleable__content {max-height: 200px;max-width: 100%;overflow: auto;}#sk-container-id-2 input.sk-toggleable__control:checked~label.sk-toggleable__label-arrow:before {content: \"▾\";}#sk-container-id-2 div.sk-estimator input.sk-toggleable__control:checked~label.sk-toggleable__label {background-color: #d4ebff;}#sk-container-id-2 div.sk-label input.sk-toggleable__control:checked~label.sk-toggleable__label {background-color: #d4ebff;}#sk-container-id-2 input.sk-hidden--visually {border: 0;clip: rect(1px 1px 1px 1px);clip: rect(1px, 1px, 1px, 1px);height: 1px;margin: -1px;overflow: hidden;padding: 0;position: absolute;width: 1px;}#sk-container-id-2 div.sk-estimator {font-family: monospace;background-color: #f0f8ff;border: 1px dotted black;border-radius: 0.25em;box-sizing: border-box;margin-bottom: 0.5em;}#sk-container-id-2 div.sk-estimator:hover {background-color: #d4ebff;}#sk-container-id-2 div.sk-parallel-item::after {content: \"\";width: 100%;border-bottom: 1px solid gray;flex-grow: 1;}#sk-container-id-2 div.sk-label:hover label.sk-toggleable__label {background-color: #d4ebff;}#sk-container-id-2 div.sk-serial::before {content: \"\";position: absolute;border-left: 1px solid gray;box-sizing: border-box;top: 0;bottom: 0;left: 50%;z-index: 0;}#sk-container-id-2 div.sk-serial {display: flex;flex-direction: column;align-items: center;background-color: white;padding-right: 0.2em;padding-left: 0.2em;position: relative;}#sk-container-id-2 div.sk-item {position: relative;z-index: 1;}#sk-container-id-2 div.sk-parallel {display: flex;align-items: stretch;justify-content: center;background-color: white;position: relative;}#sk-container-id-2 div.sk-item::before, #sk-container-id-2 div.sk-parallel-item::before {content: \"\";position: absolute;border-left: 1px solid gray;box-sizing: border-box;top: 0;bottom: 0;left: 50%;z-index: -1;}#sk-container-id-2 div.sk-parallel-item {display: flex;flex-direction: column;z-index: 1;position: relative;background-color: white;}#sk-container-id-2 div.sk-parallel-item:first-child::after {align-self: flex-end;width: 50%;}#sk-container-id-2 div.sk-parallel-item:last-child::after {align-self: flex-start;width: 50%;}#sk-container-id-2 div.sk-parallel-item:only-child::after {width: 0;}#sk-container-id-2 div.sk-dashed-wrapped {border: 1px dashed gray;margin: 0 0.4em 0.5em 0.4em;box-sizing: border-box;padding-bottom: 0.4em;background-color: white;}#sk-container-id-2 div.sk-label label {font-family: monospace;font-weight: bold;display: inline-block;line-height: 1.2em;}#sk-container-id-2 div.sk-label-container {text-align: center;}#sk-container-id-2 div.sk-container {/* jupyter's `normalize.less` sets `[hidden] { display: none; }` but bootstrap.min.css set `[hidden] { display: none !important; }` so we also need the `!important` here to be able to override the default hidden behavior on the sphinx rendered scikit-learn.org. See: https://github.com/scikit-learn/scikit-learn/issues/21755 */display: inline-block !important;position: relative;}#sk-container-id-2 div.sk-text-repr-fallback {display: none;}</style><div id=\"sk-container-id-2\" class=\"sk-top-container\"><div class=\"sk-text-repr-fallback\"><pre>GridSearchCV(cv=5, estimator=LogisticRegression(),\n",
       "             param_grid={&#x27;C&#x27;: [0.001, 0.01, 0.1, 1],\n",
       "                         &#x27;max_iter&#x27;: [100, 500, 1000, 5000], &#x27;penalty&#x27;: [&#x27;l2&#x27;],\n",
       "                         &#x27;solver&#x27;: [&#x27;liblinear&#x27;]},\n",
       "             verbose=1)</pre><b>In a Jupyter environment, please rerun this cell to show the HTML representation or trust the notebook. <br />On GitHub, the HTML representation is unable to render, please try loading this page with nbviewer.org.</b></div><div class=\"sk-container\" hidden><div class=\"sk-item sk-dashed-wrapped\"><div class=\"sk-label-container\"><div class=\"sk-label sk-toggleable\"><input class=\"sk-toggleable__control sk-hidden--visually\" id=\"sk-estimator-id-4\" type=\"checkbox\" ><label for=\"sk-estimator-id-4\" class=\"sk-toggleable__label sk-toggleable__label-arrow\">GridSearchCV</label><div class=\"sk-toggleable__content\"><pre>GridSearchCV(cv=5, estimator=LogisticRegression(),\n",
       "             param_grid={&#x27;C&#x27;: [0.001, 0.01, 0.1, 1],\n",
       "                         &#x27;max_iter&#x27;: [100, 500, 1000, 5000], &#x27;penalty&#x27;: [&#x27;l2&#x27;],\n",
       "                         &#x27;solver&#x27;: [&#x27;liblinear&#x27;]},\n",
       "             verbose=1)</pre></div></div></div><div class=\"sk-parallel\"><div class=\"sk-parallel-item\"><div class=\"sk-item\"><div class=\"sk-label-container\"><div class=\"sk-label sk-toggleable\"><input class=\"sk-toggleable__control sk-hidden--visually\" id=\"sk-estimator-id-5\" type=\"checkbox\" ><label for=\"sk-estimator-id-5\" class=\"sk-toggleable__label sk-toggleable__label-arrow\">estimator: LogisticRegression</label><div class=\"sk-toggleable__content\"><pre>LogisticRegression()</pre></div></div></div><div class=\"sk-serial\"><div class=\"sk-item\"><div class=\"sk-estimator sk-toggleable\"><input class=\"sk-toggleable__control sk-hidden--visually\" id=\"sk-estimator-id-6\" type=\"checkbox\" ><label for=\"sk-estimator-id-6\" class=\"sk-toggleable__label sk-toggleable__label-arrow\">LogisticRegression</label><div class=\"sk-toggleable__content\"><pre>LogisticRegression()</pre></div></div></div></div></div></div></div></div></div></div>"
      ],
      "text/plain": [
       "GridSearchCV(cv=5, estimator=LogisticRegression(),\n",
       "             param_grid={'C': [0.001, 0.01, 0.1, 1],\n",
       "                         'max_iter': [100, 500, 1000, 5000], 'penalty': ['l2'],\n",
       "                         'solver': ['liblinear']},\n",
       "             verbose=1)"
      ]
     },
     "execution_count": 40,
     "metadata": {},
     "output_type": "execute_result"
    }
   ],
   "source": [
    "# Perform grid search on the training data\n",
    "grid_search.fit(X_train_tfidf, y_train)"
   ]
  },
  {
   "cell_type": "code",
   "execution_count": 41,
   "metadata": {},
   "outputs": [],
   "source": [
    "# Get the best hyperparameters and the corresponding model\n",
    "best_logreg = grid_search.best_estimator_"
   ]
  },
  {
   "cell_type": "code",
   "execution_count": 42,
   "metadata": {},
   "outputs": [],
   "source": [
    "# Predict on the test data using the best model\n",
    "y_pred_logreg = best_logreg.predict(X_test_tfidf)\n"
   ]
  },
  {
   "cell_type": "code",
   "execution_count": 43,
   "metadata": {},
   "outputs": [
    {
     "name": "stdout",
     "output_type": "stream",
     "text": [
      "Best Logistic Regression Performance on Test Data:\n",
      "              precision    recall  f1-score   support\n",
      "\n",
      "      action       0.49      0.26      0.34      1314\n",
      "       adult       0.63      0.22      0.32       590\n",
      "   adventure       0.67      0.16      0.25       775\n",
      "   animation       0.55      0.05      0.10       498\n",
      "   biography       0.00      0.00      0.00       264\n",
      "      comedy       0.53      0.58      0.56      7446\n",
      "       crime       0.43      0.02      0.05       505\n",
      " documentary       0.66      0.87      0.75     13096\n",
      "       drama       0.54      0.78      0.64     13612\n",
      "      family       0.53      0.07      0.12       783\n",
      "     fantasy       0.59      0.03      0.06       322\n",
      "   game-show       0.85      0.52      0.65       193\n",
      "     history       0.00      0.00      0.00       243\n",
      "      horror       0.66      0.56      0.61      2204\n",
      "       music       0.67      0.44      0.53       731\n",
      "     musical       0.12      0.01      0.01       276\n",
      "     mystery       0.40      0.01      0.02       318\n",
      "        news       0.73      0.06      0.11       181\n",
      "  reality-tv       0.56      0.18      0.27       883\n",
      "     romance       0.50      0.01      0.03       672\n",
      "      sci-fi       0.56      0.23      0.32       646\n",
      "       short       0.49      0.31      0.38      5072\n",
      "       sport       0.69      0.25      0.37       431\n",
      "   talk-show       0.60      0.16      0.25       391\n",
      "    thriller       0.40      0.10      0.16      1590\n",
      "         war       1.00      0.01      0.02       132\n",
      "     western       0.89      0.74      0.81      1032\n",
      "\n",
      "    accuracy                           0.59     54200\n",
      "   macro avg       0.55      0.25      0.29     54200\n",
      "weighted avg       0.57      0.59      0.54     54200\n",
      "\n"
     ]
    }
   ],
   "source": [
    "# Evaluate the best Logistic Regression model on the test data\n",
    "print(\"Best Logistic Regression Performance on Test Data:\")\n",
    "print(classification_report(y_test, y_pred_logreg, target_names=label_encoder.classes_, zero_division=0))"
   ]
  },
  {
   "cell_type": "markdown",
   "metadata": {},
   "source": [
    "As a thorough analysis of the data is both time consuming and computationally expensive so unfortunately I could not do it. But I have tried to do some analysis on the data and have acheived an accuracy of almost 60%. Although not desirable but it is a good start. This can be improved by overcoming hardware limitations and by using more advanced techniques. Other algorithms were also tested on our data but none were able to complete their running cycles within convinient time frames so they were discarded. "
   ]
  }
 ],
 "metadata": {
  "kernelspec": {
   "display_name": "Python 3",
   "language": "python",
   "name": "python3"
  },
  "language_info": {
   "codemirror_mode": {
    "name": "ipython",
    "version": 3
   },
   "file_extension": ".py",
   "mimetype": "text/x-python",
   "name": "python",
   "nbconvert_exporter": "python",
   "pygments_lexer": "ipython3",
   "version": "3.11.5"
  },
  "orig_nbformat": 4
 },
 "nbformat": 4,
 "nbformat_minor": 2
}
